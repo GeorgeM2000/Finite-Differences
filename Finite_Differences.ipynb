{
  "cells": [
    {
      "cell_type": "code",
      "execution_count": 1,
      "metadata": {
        "id": "T65GTGCKU8W8"
      },
      "outputs": [],
      "source": [
        "import numpy as np\n",
        "import math\n",
        "from scipy.sparse import csr_matrix"
      ]
    },
    {
      "cell_type": "code",
      "execution_count": 8,
      "metadata": {
        "id": "H36ThwEqVuNm"
      },
      "outputs": [],
      "source": [
        "class FiniteDifferences:\n",
        "\n",
        "  def __init__(self, x, f, h):\n",
        "    self.x = x    # X nodal points\n",
        "    self.f = f    # function f\n",
        "    self.M = len(x)\n",
        "    self.h = h    # Step\n",
        "\n",
        "  def create_stiffness_matrix(self, p, q, boundary_conditions):\n",
        "    A = csr_matrix((self.M-2, self.M-2), dtype=np.float64).toarray()    # Triagonal matrix\n",
        "    F = np.zeros(self.M-2, dtype=np.float64)    # F vector for function f\n",
        "    U = np.zeros(np.size(F), dtype=np.float64)    # Solution of the linear system\n",
        "    h = self.h ** 2.    # Step\n",
        "\n",
        "    # Create triagonal matrix\n",
        "    for i in range(0, self.M-2):\n",
        "      for j in range(0, self.M-2):\n",
        "        if i == j:\n",
        "          A[i][j] = (2. * p(_)) + h*q(_)\n",
        "        elif i == j-1 or i == j+1:\n",
        "          A[i][j] = -1. * p(_)\n",
        "        else:\n",
        "          A[i][j] = 0.\n",
        "\n",
        "    # Set boundary conditions to vector F\n",
        "    F[0] = h * self.f(self.x[1]) + boundary_conditions[0]\n",
        "    F[self.M-3] = h * self.f(self.x[self.M-2]) + boundary_conditions[1]\n",
        "\n",
        "    for i in range(1, self.M-3):\n",
        "      F[i] = h * self.f(self.x[i+1])\n",
        "    \n",
        "    return A, F, U\n",
        "\n",
        "  def gauss_elimination(self,A, F):\n",
        "    n = len(F) #n is matrix size\n",
        "\n",
        "    #Elimination phase\n",
        "    for k in range(0,n-1): #k is matrix row\n",
        "        for i in range(k+1,n): #i is matrix col\n",
        "                  if A[i,k] != 0.0:\n",
        "                    factor = A[i,k]/A[k,k]\n",
        "                    A[i,k+1:n] = A[i,k+1:n] - np.multiply(factor,A[k,k+1:n])\n",
        "                    F[i] = F[i] - np.multiply(factor,F[k])\n",
        "\n",
        "    #Back substitution\n",
        "    for k in range(n-1,-1,-1):\n",
        "          F[k] = (F[k] - np.dot(A[k,k+1:n],F[k+1:n]))/A[k,k]\n",
        "\n",
        "    return F\n",
        "\n",
        "\n",
        "  def solve(self, p, q, boundary_conditions):\n",
        "    A, F, initial_U = self.create_stiffness_matrix(p, q, boundary_conditions)\n",
        "\n",
        "    # Solve linear system\n",
        "    F = F[:, np.newaxis]\n",
        "    initial_U = initial_U[:, np.newaxis]\n",
        "\n",
        "    U_Gauss = self.gauss_elimination(A, F)\n",
        "\n",
        "    return U_Gauss, A, F\n",
        "\n",
        "  # Method to calculate the error\n",
        "  def error(self, err_arr):\n",
        "    error_sum = 0\n",
        "    for i in range(1, len(self.x)-1):\n",
        "      error_sum += self.h * (abs(err_arr[i-1]) ** 2.)\n",
        "\n",
        "    return error_sum ** 1./2.\n",
        "\n",
        "  def compare_solutions(self, U, u):\n",
        "    u_exact = []    # Array to store exact solutions at nodal points 'xps'\n",
        "    u_fd = []      # Array to store approximation solutions at nodal points 'xps'\n",
        "    error_arr = []    # Array to store local absolute error \n",
        "    U = np.asarray(U)\n",
        "\n",
        "    for i in range(1, len(self.x)-1):\n",
        "      u_exact.append(u(self.x[i]))    # Calculate the exact solution u\n",
        "      u_fd.append(U[i-1][0])          # Get the approximated solution U\n",
        "      error_arr.append(abs(u_fd[i-1] - u_exact[i-1]))   # Calculate the absolute local error\n",
        "        \n",
        "    return u_exact, u_fd, self.error(error_arr), error_arr    "
      ]
    },
    {
      "cell_type": "code",
      "execution_count": 10,
      "metadata": {
        "id": "lJwsdU3OeB57"
      },
      "outputs": [
        {
          "ename": "KeyboardInterrupt",
          "evalue": "",
          "output_type": "error",
          "traceback": [
            "\u001b[0;31m---------------------------------------------------------------------------\u001b[0m",
            "\u001b[0;31mKeyboardInterrupt\u001b[0m                         Traceback (most recent call last)",
            "\u001b[1;32m/home/georgematlis/Github/Finite-Differences/Finite_Differences.ipynb Cell 3'\u001b[0m in \u001b[0;36m<cell line: 31>\u001b[0;34m()\u001b[0m\n\u001b[1;32m     <a href='vscode-notebook-cell:/home/georgematlis/Github/Finite-Differences/Finite_Differences.ipynb#ch0000002?line=25'>26</a>\u001b[0m model \u001b[39m=\u001b[39m FiniteDifferences(x_points, f, h)\n\u001b[1;32m     <a href='vscode-notebook-cell:/home/georgematlis/Github/Finite-Differences/Finite_Differences.ipynb#ch0000002?line=27'>28</a>\u001b[0m \u001b[39m# U is the solution to the linear system\u001b[39;00m\n\u001b[1;32m     <a href='vscode-notebook-cell:/home/georgematlis/Github/Finite-Differences/Finite_Differences.ipynb#ch0000002?line=28'>29</a>\u001b[0m \u001b[39m# A is the triagonal matrix\u001b[39;00m\n\u001b[1;32m     <a href='vscode-notebook-cell:/home/georgematlis/Github/Finite-Differences/Finite_Differences.ipynb#ch0000002?line=29'>30</a>\u001b[0m \u001b[39m# F is the vector of the function f\u001b[39;00m\n\u001b[0;32m---> <a href='vscode-notebook-cell:/home/georgematlis/Github/Finite-Differences/Finite_Differences.ipynb#ch0000002?line=30'>31</a>\u001b[0m U, A, F \u001b[39m=\u001b[39m model\u001b[39m.\u001b[39;49msolve(p, q, boundary_conditions)\n\u001b[1;32m     <a href='vscode-notebook-cell:/home/georgematlis/Github/Finite-Differences/Finite_Differences.ipynb#ch0000002?line=33'>34</a>\u001b[0m \u001b[39m# Evaluate U solution with the exact solution\u001b[39;00m\n\u001b[1;32m     <a href='vscode-notebook-cell:/home/georgematlis/Github/Finite-Differences/Finite_Differences.ipynb#ch0000002?line=34'>35</a>\u001b[0m u_exact, fd, err, err_arr \u001b[39m=\u001b[39m model\u001b[39m.\u001b[39mcompare_solutions(U, u)\n",
            "\u001b[1;32m/home/georgematlis/Github/Finite-Differences/Finite_Differences.ipynb Cell 2'\u001b[0m in \u001b[0;36mFiniteDifferences.solve\u001b[0;34m(self, p, q, boundary_conditions)\u001b[0m\n\u001b[1;32m     <a href='vscode-notebook-cell:/home/georgematlis/Github/Finite-Differences/Finite_Differences.ipynb#ch0000001?line=51'>52</a>\u001b[0m \u001b[39mdef\u001b[39;00m \u001b[39msolve\u001b[39m(\u001b[39mself\u001b[39m, p, q, boundary_conditions):\n\u001b[0;32m---> <a href='vscode-notebook-cell:/home/georgematlis/Github/Finite-Differences/Finite_Differences.ipynb#ch0000001?line=52'>53</a>\u001b[0m   A, F, initial_U \u001b[39m=\u001b[39m \u001b[39mself\u001b[39;49m\u001b[39m.\u001b[39;49mcreate_stiffness_matrix(p, q, boundary_conditions)\n\u001b[1;32m     <a href='vscode-notebook-cell:/home/georgematlis/Github/Finite-Differences/Finite_Differences.ipynb#ch0000001?line=54'>55</a>\u001b[0m   \u001b[39m# Solve linear system\u001b[39;00m\n\u001b[1;32m     <a href='vscode-notebook-cell:/home/georgematlis/Github/Finite-Differences/Finite_Differences.ipynb#ch0000001?line=55'>56</a>\u001b[0m   F \u001b[39m=\u001b[39m F[:, np\u001b[39m.\u001b[39mnewaxis]\n",
            "\u001b[1;32m/home/georgematlis/Github/Finite-Differences/Finite_Differences.ipynb Cell 2'\u001b[0m in \u001b[0;36mFiniteDifferences.create_stiffness_matrix\u001b[0;34m(self, p, q, boundary_conditions)\u001b[0m\n\u001b[1;32m     <a href='vscode-notebook-cell:/home/georgematlis/Github/Finite-Differences/Finite_Differences.ipynb#ch0000001?line=15'>16</a>\u001b[0m \u001b[39mfor\u001b[39;00m i \u001b[39min\u001b[39;00m \u001b[39mrange\u001b[39m(\u001b[39m0\u001b[39m, \u001b[39mself\u001b[39m\u001b[39m.\u001b[39mM\u001b[39m-\u001b[39m\u001b[39m2\u001b[39m):\n\u001b[1;32m     <a href='vscode-notebook-cell:/home/georgematlis/Github/Finite-Differences/Finite_Differences.ipynb#ch0000001?line=16'>17</a>\u001b[0m   \u001b[39mfor\u001b[39;00m j \u001b[39min\u001b[39;00m \u001b[39mrange\u001b[39m(\u001b[39m0\u001b[39m, \u001b[39mself\u001b[39m\u001b[39m.\u001b[39mM\u001b[39m-\u001b[39m\u001b[39m2\u001b[39m):\n\u001b[0;32m---> <a href='vscode-notebook-cell:/home/georgematlis/Github/Finite-Differences/Finite_Differences.ipynb#ch0000001?line=17'>18</a>\u001b[0m     \u001b[39mif\u001b[39;00m i \u001b[39m==\u001b[39m j:\n\u001b[1;32m     <a href='vscode-notebook-cell:/home/georgematlis/Github/Finite-Differences/Finite_Differences.ipynb#ch0000001?line=18'>19</a>\u001b[0m       A[i][j] \u001b[39m=\u001b[39m (\u001b[39m2.\u001b[39m \u001b[39m*\u001b[39m p(_)) \u001b[39m+\u001b[39m h\u001b[39m*\u001b[39mq(_)\n\u001b[1;32m     <a href='vscode-notebook-cell:/home/georgematlis/Github/Finite-Differences/Finite_Differences.ipynb#ch0000001?line=19'>20</a>\u001b[0m     \u001b[39melif\u001b[39;00m i \u001b[39m==\u001b[39m j\u001b[39m-\u001b[39m\u001b[39m1\u001b[39m \u001b[39mor\u001b[39;00m i \u001b[39m==\u001b[39m j\u001b[39m+\u001b[39m\u001b[39m1\u001b[39m:\n",
            "\u001b[0;31mKeyboardInterrupt\u001b[0m: "
          ]
        }
      ],
      "source": [
        "# Interval\n",
        "interval = [0,2]  \n",
        "\n",
        "# Subintervals\n",
        "J = 100\n",
        "\n",
        "# h is step size\n",
        "h = 0.00005\n",
        "#h = (interval[1] - interval[0])/J   # Step size. Reducing the step we get better approximation\n",
        "\n",
        "# functions\n",
        "phi = 10. * math.pi\n",
        "u = lambda x: math.cos(phi * x)\n",
        "q = lambda x: 2. * (phi ** 2.)\n",
        "p = lambda x: 1.\n",
        "b = math.cos(2. * phi)\n",
        "f = lambda x: 3. * (phi**2.) * math.cos(phi * x)\n",
        "\n",
        "# Initial x nodal points\n",
        "x_points = np.arange(interval[0], interval[1] + h, h)     \n",
        "\n",
        "# Boundary conditions\n",
        "boundary_conditions = np.array([1., b], dtype=np.float64) \n",
        "\n",
        "\n",
        "model = FiniteDifferences(x_points, f, h)\n",
        "\n",
        "# U is the solution to the linear system\n",
        "# A is the triagonal matrix\n",
        "# F is the vector of the function f\n",
        "U, A, F = model.solve(p, q, boundary_conditions)\n",
        "\n",
        "\n",
        "# Evaluate U solution with the exact solution\n",
        "u_exact, fd, err, err_arr = model.compare_solutions(U, u)\n",
        "\n",
        "\n",
        "# Uncomment to compare the exact solution with the approximated \n",
        "\"\"\"\n",
        "for i in range(len(err_arr)):\n",
        "  print(f'{u_exact[i]}     ==>     {fd[i]}     {err_arr[i]}\\n')\n",
        "\"\"\"\n",
        "print(f'\\nError: {err}')\n",
        "\n"
      ]
    }
  ],
  "metadata": {
    "colab": {
      "collapsed_sections": [],
      "name": "Finite_Differences.ipynb",
      "provenance": []
    },
    "kernelspec": {
      "display_name": "Python 3.10.4 64-bit",
      "language": "python",
      "name": "python3"
    },
    "language_info": {
      "codemirror_mode": {
        "name": "ipython",
        "version": 3
      },
      "file_extension": ".py",
      "mimetype": "text/x-python",
      "name": "python",
      "nbconvert_exporter": "python",
      "pygments_lexer": "ipython3",
      "version": "3.10.4"
    },
    "vscode": {
      "interpreter": {
        "hash": "916dbcbb3f70747c44a77c7bcd40155683ae19c65e1c03b4aa3499c5328201f1"
      }
    }
  },
  "nbformat": 4,
  "nbformat_minor": 0
}
