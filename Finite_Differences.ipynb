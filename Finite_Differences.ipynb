{
  "cells": [
    {
      "cell_type": "code",
      "execution_count": 1,
      "metadata": {
        "id": "T65GTGCKU8W8"
      },
      "outputs": [],
      "source": [
        "import numpy as np\n",
        "import math\n",
        "from scipy.sparse import csr_matrix\n",
        "import GaussSeidel"
      ]
    },
    {
      "cell_type": "code",
      "execution_count": 9,
      "metadata": {
        "id": "H36ThwEqVuNm"
      },
      "outputs": [],
      "source": [
        "class FiniteDifferences:\n",
        "\n",
        "  def __init__(self, x, f, h):\n",
        "    self.x = x    # X nodal points\n",
        "    self.f = f    # function f\n",
        "    self.M = len(x)\n",
        "    self.h = h    # Step\n",
        "\n",
        "  def create_stiffness_matrix(self, p, q, boundary_conditions):\n",
        "    A = csr_matrix((self.M-2, self.M-2), dtype=np.float64).toarray()    # Triagonal matrix\n",
        "    F = np.zeros(self.M-2, dtype=np.float64)    # F vector for function f\n",
        "    U = np.zeros(np.size(F), dtype=np.float64)    # Solution of the linear system\n",
        "    h = self.h ** 2.    # Step\n",
        "\n",
        "    # Create triagonal matrix\n",
        "    for i in range(0, self.M-2):\n",
        "      for j in range(0, self.M-2):\n",
        "        if i == j:\n",
        "          A[i][j] = (2. * p(_)) + h*q(_)\n",
        "        elif i == j-1 or i == j+1:\n",
        "          A[i][j] = -1. * p(_)\n",
        "        else:\n",
        "          A[i][j] = 0.\n",
        "\n",
        "    # Set boundary conditions to vector F\n",
        "    F[0] = h * self.f(self.x[1]) + boundary_conditions[0]\n",
        "    F[self.M-3] = h * self.f(self.x[self.M-2]) + boundary_conditions[1]\n",
        "\n",
        "    for i in range(1, self.M-3):\n",
        "      F[i] = h * self.f(self.x[i+1])\n",
        "    \n",
        "    return A, F, U\n",
        "\n",
        "  def gauss_elimination(self,A, F):\n",
        "    n = len(F) #n is matrix size\n",
        "\n",
        "    #Elimination phase\n",
        "    for k in range(0,n-1): #k is matrix row\n",
        "        for i in range(k+1,n): #i is matrix col\n",
        "                  if A[i,k] != 0.0:\n",
        "                    factor = A[i,k]/A[k,k]\n",
        "                    A[i,k+1:n] = A[i,k+1:n] - np.multiply(factor,A[k,k+1:n])\n",
        "                    F[i] = F[i] - np.multiply(factor,F[k])\n",
        "\n",
        "    #Back substitution\n",
        "    for k in range(n-1,-1,-1):\n",
        "          F[k] = (F[k] - np.dot(A[k,k+1:n],F[k+1:n]))/A[k,k]\n",
        "\n",
        "    return F\n",
        "\n",
        "\n",
        "  def solve(self, p, q, boundary_conditions):\n",
        "    A, F, initial_U = self.create_stiffness_matrix(p, q, boundary_conditions)\n",
        "\n",
        "    # Solve linear system\n",
        "    F = F[:, np.newaxis]\n",
        "    initial_U = initial_U[:, np.newaxis]\n",
        "\n",
        "    GS = GaussSeidel.GaussSeidel(initial_U, A, F, 1e-10, 10000)\n",
        "    Solutions, iter, Errors, U = GS.gaussSeidel()\n",
        "\n",
        "    return U, A, F\n",
        "\n",
        "  # Method to calculate the error\n",
        "  def error(self, err_arr):\n",
        "    error_sum = 0\n",
        "    for i in range(1, len(self.x)-1):\n",
        "      error_sum += self.h * (abs(err_arr[i-1]) ** 2.)\n",
        "\n",
        "    return error_sum ** 1./2.\n",
        "\n",
        "  def compare_solutions(self, U, u):\n",
        "    u_exact = []    # Array to store exact solutions at nodal points 'xps'\n",
        "    u_fd = []      # Array to store approximation solutions at nodal points 'xps'\n",
        "    error_arr = []    # Array to store local absolute error \n",
        "    U = np.asarray(U)\n",
        "\n",
        "    for i in range(1, len(self.x)-1):\n",
        "      u_exact.append(u(self.x[i]))    # Calculate the exact solution u\n",
        "      u_fd.append(U[i-1][0])          # Get the approximated solution U\n",
        "      error_arr.append(abs(u_fd[i-1] - u_exact[i-1]))   # Calculate the absolute local error\n",
        "        \n",
        "    return u_exact, u_fd, self.error(error_arr), error_arr    "
      ]
    },
    {
      "cell_type": "code",
      "execution_count": 10,
      "metadata": {
        "id": "lJwsdU3OeB57"
      },
      "outputs": [
        {
          "name": "stdout",
          "output_type": "stream",
          "text": [
            "Completed at 0.024196147918701172 \n",
            "\n",
            "\n",
            "Error: 2.2600690375748784e-07\n"
          ]
        }
      ],
      "source": [
        "# Interval\n",
        "interval = [0,2]  \n",
        "\n",
        "# Subintervals\n",
        "J = 100\n",
        "\n",
        "# h is step size\n",
        "h = 0.005\n",
        "#h = (interval[1] - interval[0])/J   # Step size. Reducing the step we get better approximation\n",
        "\n",
        "# functions\n",
        "phi = 10. * math.pi\n",
        "u = lambda x: math.cos(phi * x)\n",
        "q = lambda x: 2. * (phi ** 2.)\n",
        "p = lambda x: 1.\n",
        "b = math.cos(2. * phi)\n",
        "f = lambda x: 3. * (phi**2.) * math.cos(phi * x)\n",
        "\n",
        "# Initial x nodal points\n",
        "x_points = np.arange(interval[0], interval[1] + h, h)     \n",
        "\n",
        "# Boundary conditions\n",
        "boundary_conditions = np.array([1., b], dtype=np.float64) \n",
        "\n",
        "\n",
        "model = FiniteDifferences(x_points, f, h)\n",
        "\n",
        "# U is the solution to the linear system\n",
        "# A is the triagonal matrix\n",
        "# F is the vector of the function f\n",
        "U, A, F = model.solve(p, q, boundary_conditions)\n",
        "\n",
        "\n",
        "# Evaluate U solution with the exact solution\n",
        "u_exact, fd, err, err_arr = model.compare_solutions(U, u)\n",
        "\n",
        "\n",
        "# Uncomment to compare the exact solution with the approximated \n",
        "\"\"\"\n",
        "for i in range(len(err_arr)):\n",
        "  print(f'{u_exact[i]}     ==>     {fd[i]}     {err_arr[i]}\\n')\n",
        "\"\"\"\n",
        "print(f'\\nError: {err}')\n",
        "\n"
      ]
    }
  ],
  "metadata": {
    "colab": {
      "collapsed_sections": [],
      "name": "Finite_Differences.ipynb",
      "provenance": []
    },
    "kernelspec": {
      "display_name": "Python 3.10.4 64-bit",
      "language": "python",
      "name": "python3"
    },
    "language_info": {
      "codemirror_mode": {
        "name": "ipython",
        "version": 3
      },
      "file_extension": ".py",
      "mimetype": "text/x-python",
      "name": "python",
      "nbconvert_exporter": "python",
      "pygments_lexer": "ipython3",
      "version": "3.10.4"
    },
    "vscode": {
      "interpreter": {
        "hash": "916dbcbb3f70747c44a77c7bcd40155683ae19c65e1c03b4aa3499c5328201f1"
      }
    }
  },
  "nbformat": 4,
  "nbformat_minor": 0
}
